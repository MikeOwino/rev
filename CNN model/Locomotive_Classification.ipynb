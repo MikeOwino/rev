{
  "nbformat": 4,
  "nbformat_minor": 0,
  "metadata": {
    "colab": {
      "name": "Locomotive Classification.ipynb",
      "provenance": []
    },
    "kernelspec": {
      "name": "python3",
      "display_name": "Python 3"
    },
    "language_info": {
      "name": "python"
    }
  },
  "cells": [
    {
      "cell_type": "code",
      "metadata": {
        "colab": {
          "base_uri": "https://localhost:8080/"
        },
        "id": "7HQ31AWix32Q",
        "outputId": "8e286e9e-3eaf-4f19-eb16-2cdaca99de5f"
      },
      "source": [
        "#FOR IMPORTING DATASET\n",
        "!git clone https://github.com/Tanmoydey21/Dataset.git"
      ],
      "execution_count": null,
      "outputs": [
        {
          "output_type": "stream",
          "name": "stdout",
          "text": [
            "Cloning into 'Dataset'...\n",
            "remote: Enumerating objects: 213, done.\u001b[K\n",
            "remote: Counting objects: 100% (213/213), done.\u001b[K\n",
            "remote: Compressing objects: 100% (209/209), done.\u001b[K\n",
            "remote: Total 213 (delta 1), reused 210 (delta 1), pack-reused 0\n",
            "Receiving objects: 100% (213/213), 5.40 MiB | 17.79 MiB/s, done.\n",
            "Resolving deltas: 100% (1/1), done.\n"
          ]
        }
      ]
    },
    {
      "cell_type": "code",
      "metadata": {
        "colab": {
          "base_uri": "https://localhost:8080/"
        },
        "id": "xYId17fG8gPz",
        "outputId": "0f11dee1-98fa-460b-d9de-28e0c6e36d04"
      },
      "source": [
        "ls"
      ],
      "execution_count": null,
      "outputs": [
        {
          "output_type": "stream",
          "name": "stdout",
          "text": [
            "\u001b[0m\u001b[01;34mDataset\u001b[0m/  \u001b[01;34msample_data\u001b[0m/\n"
          ]
        }
      ]
    },
    {
      "cell_type": "code",
      "metadata": {
        "colab": {
          "base_uri": "https://localhost:8080/"
        },
        "id": "XOFO296w8yzK",
        "outputId": "10672f20-dc8d-4839-d3a1-dfb052965ee7"
      },
      "source": [
        "cd Dataset/"
      ],
      "execution_count": null,
      "outputs": [
        {
          "output_type": "stream",
          "name": "stdout",
          "text": [
            "/content/Dataset\n"
          ]
        }
      ]
    },
    {
      "cell_type": "code",
      "metadata": {
        "colab": {
          "base_uri": "https://localhost:8080/"
        },
        "id": "Oq6bEqQ78-6z",
        "outputId": "7a2cce60-6192-438c-e1e2-cb3b691766c8"
      },
      "source": [
        "ls"
      ],
      "execution_count": null,
      "outputs": [
        {
          "output_type": "stream",
          "name": "stdout",
          "text": [
            "README.md  \u001b[0m\u001b[01;34mtrain_dataset\u001b[0m/\n"
          ]
        }
      ]
    },
    {
      "cell_type": "code",
      "metadata": {
        "id": "wtxC5edlN4I_"
      },
      "source": [
        "#IMPORTING LIBRARIES\n",
        "import tensorflow as tf\n",
        "from keras.preprocessing.image import ImageDataGenerator\n",
        "from PIL import Image"
      ],
      "execution_count": null,
      "outputs": []
    },
    {
      "cell_type": "code",
      "metadata": {
        "colab": {
          "base_uri": "https://localhost:8080/"
        },
        "id": "XqsMaSyMPNZF",
        "outputId": "a28f5a48-5101-4375-c634-25721f6e5815"
      },
      "source": [
        "#PREPROCESSING TRAINING SET\n",
        "train_datagen = ImageDataGenerator(rescale = 1./255,\n",
        "                                   shear_range = 0.2,\n",
        "                                   zoom_range = 0.2,\n",
        "                                   horizontal_flip = True)\n",
        "training_set = train_datagen.flow_from_directory('train_dataset/training dataset',\n",
        "                                                 target_size = (64, 64),\n",
        "                                                 batch_size = 32,\n",
        "                                                 class_mode = 'binary')"
      ],
      "execution_count": null,
      "outputs": [
        {
          "output_type": "stream",
          "name": "stdout",
          "text": [
            "Found 200 images belonging to 2 classes.\n"
          ]
        }
      ]
    },
    {
      "cell_type": "code",
      "metadata": {
        "colab": {
          "base_uri": "https://localhost:8080/"
        },
        "id": "LKmk-1-kPaO-",
        "outputId": "3a7b348e-ca57-4728-8144-fc4c71158bb3"
      },
      "source": [
        "#PREPROCESSING TEST SET\n",
        "test_datagen = ImageDataGenerator(rescale = 1./255)\n",
        "test_set = test_datagen.flow_from_directory('train_dataset/test dataset',\n",
        "                                            target_size = (64, 64),\n",
        "                                            batch_size = 32,\n",
        "                                            class_mode = 'binary')"
      ],
      "execution_count": null,
      "outputs": [
        {
          "output_type": "stream",
          "name": "stdout",
          "text": [
            "Found 20 images belonging to 2 classes.\n"
          ]
        }
      ]
    },
    {
      "cell_type": "code",
      "metadata": {
        "id": "jbaYGmpxPhb2"
      },
      "source": [
        "#BUILDING THE CNN MODEL\n",
        "cnn = tf.keras.models.Sequential()\n",
        "\n",
        "#CONVOLUTION AND MAX POOLING\n",
        "cnn.add(tf.keras.layers.Conv2D(filters=32, kernel_size=3, activation='relu', input_shape=[64, 64, 3]))\n",
        "cnn.add(tf.keras.layers.MaxPool2D(pool_size=2, strides=2))\n",
        "\n",
        "#CONVOLUTION AND MAX POOLING (SECOND LAYER)\n",
        "cnn.add(tf.keras.layers.Conv2D(filters=64, kernel_size=3, activation='relu'))\n",
        "cnn.add(tf.keras.layers.MaxPool2D(pool_size=2, strides=2))\n",
        "\n",
        "#CONVOLUTION AND MAX POOLING (THIRD LAYER)\n",
        "cnn.add(tf.keras.layers.Conv2D(filters=128, kernel_size=3, activation='relu'))\n",
        "cnn.add(tf.keras.layers.MaxPool2D(pool_size=2, strides=2))\n",
        "\n",
        "#FLATTENING\n",
        "cnn.add(tf.keras.layers.Flatten())\n",
        "\n",
        "#FULL CONNECTION\n",
        "cnn.add(tf.keras.layers.Dense(units=128, activation='relu'))\n",
        "\n",
        "#OUTPUT\n",
        "cnn.add(tf.keras.layers.Dense(units=1, activation='sigmoid'))"
      ],
      "execution_count": null,
      "outputs": []
    },
    {
      "cell_type": "code",
      "metadata": {
        "colab": {
          "base_uri": "https://localhost:8080/"
        },
        "id": "_HIzkStPq-k5",
        "outputId": "e1bb6fef-9ef8-45e4-efea-a097883aa259"
      },
      "source": [
        "#TRAINING THE CNN MODEL\n",
        "#COMPILING THE CNN\n",
        "cnn.compile(optimizer = 'adam', loss = 'binary_crossentropy', metrics = ['accuracy'])\n",
        "\n",
        "#TRAINING THE CNN ON THE TRAINING SET AND EVALUATING IT ON TEST SET\n",
        "cnn.fit(training_set, validation_data = test_set, epochs =100)"
      ],
      "execution_count": null,
      "outputs": [
        {
          "output_type": "stream",
          "name": "stdout",
          "text": [
            "Epoch 1/100\n",
            "7/7 [==============================] - 3s 336ms/step - loss: 0.7160 - accuracy: 0.5100 - val_loss: 0.6915 - val_accuracy: 0.5500\n",
            "Epoch 2/100\n",
            "7/7 [==============================] - 2s 297ms/step - loss: 0.6899 - accuracy: 0.5550 - val_loss: 0.6870 - val_accuracy: 0.5000\n",
            "Epoch 3/100\n",
            "7/7 [==============================] - 2s 300ms/step - loss: 0.6998 - accuracy: 0.5000 - val_loss: 0.6821 - val_accuracy: 0.5500\n",
            "Epoch 4/100\n",
            "7/7 [==============================] - 2s 295ms/step - loss: 0.6719 - accuracy: 0.6400 - val_loss: 0.6833 - val_accuracy: 0.5000\n",
            "Epoch 5/100\n",
            "7/7 [==============================] - 2s 289ms/step - loss: 0.6695 - accuracy: 0.5700 - val_loss: 0.6593 - val_accuracy: 0.7000\n",
            "Epoch 6/100\n",
            "7/7 [==============================] - 2s 300ms/step - loss: 0.6459 - accuracy: 0.6600 - val_loss: 0.6318 - val_accuracy: 0.7000\n",
            "Epoch 7/100\n",
            "7/7 [==============================] - 2s 299ms/step - loss: 0.6920 - accuracy: 0.5800 - val_loss: 0.6840 - val_accuracy: 0.4500\n",
            "Epoch 8/100\n",
            "7/7 [==============================] - 2s 292ms/step - loss: 0.6356 - accuracy: 0.6450 - val_loss: 0.6390 - val_accuracy: 0.7000\n",
            "Epoch 9/100\n",
            "7/7 [==============================] - 2s 293ms/step - loss: 0.6266 - accuracy: 0.6650 - val_loss: 0.6253 - val_accuracy: 0.5000\n",
            "Epoch 10/100\n",
            "7/7 [==============================] - 2s 305ms/step - loss: 0.6068 - accuracy: 0.6900 - val_loss: 0.6019 - val_accuracy: 0.8000\n",
            "Epoch 11/100\n",
            "7/7 [==============================] - 2s 295ms/step - loss: 0.5854 - accuracy: 0.7000 - val_loss: 0.6021 - val_accuracy: 0.6500\n",
            "Epoch 12/100\n",
            "7/7 [==============================] - 2s 347ms/step - loss: 0.5743 - accuracy: 0.6800 - val_loss: 0.5614 - val_accuracy: 0.6500\n",
            "Epoch 13/100\n",
            "7/7 [==============================] - 2s 294ms/step - loss: 0.5361 - accuracy: 0.7200 - val_loss: 0.5296 - val_accuracy: 0.7000\n",
            "Epoch 14/100\n",
            "7/7 [==============================] - 2s 301ms/step - loss: 0.5203 - accuracy: 0.7450 - val_loss: 0.5652 - val_accuracy: 0.6500\n",
            "Epoch 15/100\n",
            "7/7 [==============================] - 2s 299ms/step - loss: 0.5446 - accuracy: 0.7250 - val_loss: 0.4744 - val_accuracy: 0.8000\n",
            "Epoch 16/100\n",
            "7/7 [==============================] - 2s 295ms/step - loss: 0.4809 - accuracy: 0.7700 - val_loss: 0.5351 - val_accuracy: 0.6500\n",
            "Epoch 17/100\n",
            "7/7 [==============================] - 2s 345ms/step - loss: 0.4605 - accuracy: 0.7800 - val_loss: 0.4545 - val_accuracy: 0.7500\n",
            "Epoch 18/100\n",
            "7/7 [==============================] - 2s 294ms/step - loss: 0.4496 - accuracy: 0.8000 - val_loss: 0.4209 - val_accuracy: 0.7500\n",
            "Epoch 19/100\n",
            "7/7 [==============================] - 2s 352ms/step - loss: 0.4997 - accuracy: 0.7200 - val_loss: 0.4861 - val_accuracy: 0.8000\n",
            "Epoch 20/100\n",
            "7/7 [==============================] - 2s 290ms/step - loss: 0.4324 - accuracy: 0.8050 - val_loss: 0.4245 - val_accuracy: 0.7500\n",
            "Epoch 21/100\n",
            "7/7 [==============================] - 2s 313ms/step - loss: 0.3794 - accuracy: 0.8300 - val_loss: 0.3933 - val_accuracy: 0.8500\n",
            "Epoch 22/100\n",
            "7/7 [==============================] - 2s 352ms/step - loss: 0.3837 - accuracy: 0.8300 - val_loss: 0.3507 - val_accuracy: 0.8000\n",
            "Epoch 23/100\n",
            "7/7 [==============================] - 2s 309ms/step - loss: 0.3657 - accuracy: 0.8200 - val_loss: 0.4404 - val_accuracy: 0.7500\n",
            "Epoch 24/100\n",
            "7/7 [==============================] - 2s 299ms/step - loss: 0.3487 - accuracy: 0.8500 - val_loss: 0.3030 - val_accuracy: 0.8500\n",
            "Epoch 25/100\n",
            "7/7 [==============================] - 2s 340ms/step - loss: 0.3333 - accuracy: 0.8550 - val_loss: 0.2620 - val_accuracy: 0.9000\n",
            "Epoch 26/100\n",
            "7/7 [==============================] - 2s 312ms/step - loss: 0.3463 - accuracy: 0.8500 - val_loss: 0.2822 - val_accuracy: 0.9000\n",
            "Epoch 27/100\n",
            "7/7 [==============================] - 2s 295ms/step - loss: 0.3212 - accuracy: 0.8500 - val_loss: 0.4161 - val_accuracy: 0.9000\n",
            "Epoch 28/100\n",
            "7/7 [==============================] - 2s 300ms/step - loss: 0.3129 - accuracy: 0.8650 - val_loss: 0.3516 - val_accuracy: 0.8500\n",
            "Epoch 29/100\n",
            "7/7 [==============================] - 2s 300ms/step - loss: 0.2895 - accuracy: 0.8950 - val_loss: 0.2152 - val_accuracy: 0.9000\n",
            "Epoch 30/100\n",
            "7/7 [==============================] - 2s 291ms/step - loss: 0.2655 - accuracy: 0.9000 - val_loss: 0.2196 - val_accuracy: 0.9000\n",
            "Epoch 31/100\n",
            "7/7 [==============================] - 2s 296ms/step - loss: 0.2568 - accuracy: 0.8950 - val_loss: 0.2219 - val_accuracy: 0.9500\n",
            "Epoch 32/100\n",
            "7/7 [==============================] - 2s 295ms/step - loss: 0.2250 - accuracy: 0.9250 - val_loss: 0.1826 - val_accuracy: 0.9000\n",
            "Epoch 33/100\n",
            "7/7 [==============================] - 2s 299ms/step - loss: 0.2185 - accuracy: 0.9300 - val_loss: 0.2937 - val_accuracy: 0.9000\n",
            "Epoch 34/100\n",
            "7/7 [==============================] - 2s 300ms/step - loss: 0.2119 - accuracy: 0.9100 - val_loss: 0.2122 - val_accuracy: 0.9500\n",
            "Epoch 35/100\n",
            "7/7 [==============================] - 2s 296ms/step - loss: 0.1997 - accuracy: 0.9000 - val_loss: 0.1186 - val_accuracy: 0.9500\n",
            "Epoch 36/100\n",
            "7/7 [==============================] - 2s 309ms/step - loss: 0.2751 - accuracy: 0.8850 - val_loss: 0.2262 - val_accuracy: 0.9000\n",
            "Epoch 37/100\n",
            "7/7 [==============================] - 2s 301ms/step - loss: 0.2175 - accuracy: 0.9100 - val_loss: 0.2472 - val_accuracy: 0.9500\n",
            "Epoch 38/100\n",
            "7/7 [==============================] - 2s 289ms/step - loss: 0.2215 - accuracy: 0.9100 - val_loss: 0.2360 - val_accuracy: 0.9500\n",
            "Epoch 39/100\n",
            "7/7 [==============================] - 2s 297ms/step - loss: 0.1593 - accuracy: 0.9600 - val_loss: 0.1631 - val_accuracy: 0.9500\n",
            "Epoch 40/100\n",
            "7/7 [==============================] - 2s 309ms/step - loss: 0.1478 - accuracy: 0.9400 - val_loss: 0.1620 - val_accuracy: 0.9500\n",
            "Epoch 41/100\n",
            "7/7 [==============================] - 2s 297ms/step - loss: 0.1110 - accuracy: 0.9750 - val_loss: 0.0860 - val_accuracy: 0.9500\n",
            "Epoch 42/100\n",
            "7/7 [==============================] - 2s 302ms/step - loss: 0.1189 - accuracy: 0.9600 - val_loss: 0.0973 - val_accuracy: 0.9500\n",
            "Epoch 43/100\n",
            "7/7 [==============================] - 2s 345ms/step - loss: 0.1716 - accuracy: 0.9300 - val_loss: 0.0824 - val_accuracy: 0.9500\n",
            "Epoch 44/100\n",
            "7/7 [==============================] - 2s 297ms/step - loss: 0.1312 - accuracy: 0.9600 - val_loss: 0.1044 - val_accuracy: 0.9500\n",
            "Epoch 45/100\n",
            "7/7 [==============================] - 2s 343ms/step - loss: 0.2180 - accuracy: 0.9400 - val_loss: 0.0927 - val_accuracy: 0.9500\n",
            "Epoch 46/100\n",
            "7/7 [==============================] - 2s 309ms/step - loss: 0.1394 - accuracy: 0.9500 - val_loss: 0.0966 - val_accuracy: 0.9500\n",
            "Epoch 47/100\n",
            "7/7 [==============================] - 2s 296ms/step - loss: 0.0983 - accuracy: 0.9850 - val_loss: 0.2158 - val_accuracy: 0.9500\n",
            "Epoch 48/100\n",
            "7/7 [==============================] - 2s 305ms/step - loss: 0.0896 - accuracy: 0.9800 - val_loss: 0.1666 - val_accuracy: 0.9500\n",
            "Epoch 49/100\n",
            "7/7 [==============================] - 2s 305ms/step - loss: 0.0742 - accuracy: 0.9800 - val_loss: 0.1679 - val_accuracy: 0.9500\n",
            "Epoch 50/100\n",
            "7/7 [==============================] - 2s 292ms/step - loss: 0.0739 - accuracy: 0.9850 - val_loss: 0.1106 - val_accuracy: 0.9500\n",
            "Epoch 51/100\n",
            "7/7 [==============================] - 2s 301ms/step - loss: 0.0602 - accuracy: 0.9850 - val_loss: 0.0563 - val_accuracy: 0.9500\n",
            "Epoch 52/100\n",
            "7/7 [==============================] - 2s 296ms/step - loss: 0.0570 - accuracy: 0.9800 - val_loss: 0.1712 - val_accuracy: 0.9500\n",
            "Epoch 53/100\n",
            "7/7 [==============================] - 2s 295ms/step - loss: 0.0387 - accuracy: 0.9900 - val_loss: 0.1038 - val_accuracy: 0.9500\n",
            "Epoch 54/100\n",
            "7/7 [==============================] - 2s 293ms/step - loss: 0.0407 - accuracy: 0.9850 - val_loss: 0.2019 - val_accuracy: 0.9500\n",
            "Epoch 55/100\n",
            "7/7 [==============================] - 2s 298ms/step - loss: 0.0420 - accuracy: 0.9850 - val_loss: 0.0198 - val_accuracy: 1.0000\n",
            "Epoch 56/100\n",
            "7/7 [==============================] - 2s 315ms/step - loss: 0.0592 - accuracy: 0.9800 - val_loss: 0.0172 - val_accuracy: 1.0000\n",
            "Epoch 57/100\n",
            "7/7 [==============================] - 2s 296ms/step - loss: 0.0446 - accuracy: 1.0000 - val_loss: 0.0191 - val_accuracy: 1.0000\n",
            "Epoch 58/100\n",
            "7/7 [==============================] - 2s 296ms/step - loss: 0.0370 - accuracy: 0.9850 - val_loss: 0.0287 - val_accuracy: 1.0000\n",
            "Epoch 59/100\n",
            "7/7 [==============================] - 2s 302ms/step - loss: 0.0426 - accuracy: 0.9900 - val_loss: 0.0083 - val_accuracy: 1.0000\n",
            "Epoch 60/100\n",
            "7/7 [==============================] - 2s 302ms/step - loss: 0.0644 - accuracy: 0.9600 - val_loss: 0.0711 - val_accuracy: 0.9500\n",
            "Epoch 61/100\n",
            "7/7 [==============================] - 2s 355ms/step - loss: 0.0816 - accuracy: 0.9650 - val_loss: 0.0618 - val_accuracy: 0.9500\n",
            "Epoch 62/100\n",
            "7/7 [==============================] - 2s 301ms/step - loss: 0.0529 - accuracy: 0.9800 - val_loss: 0.0410 - val_accuracy: 1.0000\n",
            "Epoch 63/100\n",
            "7/7 [==============================] - 2s 349ms/step - loss: 0.0615 - accuracy: 0.9850 - val_loss: 0.0463 - val_accuracy: 1.0000\n",
            "Epoch 64/100\n",
            "7/7 [==============================] - 2s 349ms/step - loss: 0.0521 - accuracy: 0.9750 - val_loss: 0.1609 - val_accuracy: 0.9500\n",
            "Epoch 65/100\n",
            "7/7 [==============================] - 2s 349ms/step - loss: 0.0239 - accuracy: 1.0000 - val_loss: 0.0431 - val_accuracy: 1.0000\n",
            "Epoch 66/100\n",
            "7/7 [==============================] - 2s 297ms/step - loss: 0.0379 - accuracy: 0.9900 - val_loss: 0.0421 - val_accuracy: 0.9500\n",
            "Epoch 67/100\n",
            "7/7 [==============================] - 2s 295ms/step - loss: 0.0431 - accuracy: 0.9850 - val_loss: 0.0261 - val_accuracy: 1.0000\n",
            "Epoch 68/100\n",
            "7/7 [==============================] - 2s 297ms/step - loss: 0.0338 - accuracy: 0.9900 - val_loss: 0.0187 - val_accuracy: 1.0000\n",
            "Epoch 69/100\n",
            "7/7 [==============================] - 2s 302ms/step - loss: 0.0369 - accuracy: 0.9850 - val_loss: 0.1309 - val_accuracy: 0.9500\n",
            "Epoch 70/100\n",
            "7/7 [==============================] - 2s 349ms/step - loss: 0.0356 - accuracy: 0.9900 - val_loss: 0.0390 - val_accuracy: 1.0000\n",
            "Epoch 71/100\n",
            "7/7 [==============================] - 2s 295ms/step - loss: 0.0333 - accuracy: 0.9850 - val_loss: 0.0336 - val_accuracy: 1.0000\n",
            "Epoch 72/100\n",
            "7/7 [==============================] - 2s 305ms/step - loss: 0.0340 - accuracy: 0.9900 - val_loss: 0.0033 - val_accuracy: 1.0000\n",
            "Epoch 73/100\n",
            "7/7 [==============================] - 2s 302ms/step - loss: 0.0170 - accuracy: 0.9950 - val_loss: 0.0603 - val_accuracy: 0.9500\n",
            "Epoch 74/100\n",
            "7/7 [==============================] - 2s 310ms/step - loss: 0.0212 - accuracy: 0.9900 - val_loss: 0.0160 - val_accuracy: 1.0000\n",
            "Epoch 75/100\n",
            "7/7 [==============================] - 2s 293ms/step - loss: 0.0060 - accuracy: 1.0000 - val_loss: 0.0100 - val_accuracy: 1.0000\n",
            "Epoch 76/100\n",
            "7/7 [==============================] - 2s 311ms/step - loss: 0.0050 - accuracy: 1.0000 - val_loss: 0.0044 - val_accuracy: 1.0000\n",
            "Epoch 77/100\n",
            "7/7 [==============================] - 2s 300ms/step - loss: 0.0060 - accuracy: 1.0000 - val_loss: 0.0108 - val_accuracy: 1.0000\n",
            "Epoch 78/100\n",
            "7/7 [==============================] - 2s 308ms/step - loss: 0.0126 - accuracy: 0.9950 - val_loss: 0.0207 - val_accuracy: 1.0000\n",
            "Epoch 79/100\n",
            "7/7 [==============================] - 2s 309ms/step - loss: 0.0051 - accuracy: 1.0000 - val_loss: 0.0336 - val_accuracy: 1.0000\n",
            "Epoch 80/100\n",
            "7/7 [==============================] - 2s 298ms/step - loss: 0.0047 - accuracy: 1.0000 - val_loss: 0.0174 - val_accuracy: 1.0000\n",
            "Epoch 81/100\n",
            "7/7 [==============================] - 2s 298ms/step - loss: 0.0044 - accuracy: 1.0000 - val_loss: 0.0295 - val_accuracy: 1.0000\n",
            "Epoch 82/100\n",
            "7/7 [==============================] - 2s 292ms/step - loss: 0.0040 - accuracy: 1.0000 - val_loss: 0.0489 - val_accuracy: 0.9500\n",
            "Epoch 83/100\n",
            "7/7 [==============================] - 2s 312ms/step - loss: 0.0028 - accuracy: 1.0000 - val_loss: 0.0812 - val_accuracy: 0.9500\n",
            "Epoch 84/100\n",
            "7/7 [==============================] - 2s 300ms/step - loss: 0.0045 - accuracy: 1.0000 - val_loss: 0.0572 - val_accuracy: 0.9500\n",
            "Epoch 85/100\n",
            "7/7 [==============================] - 2s 293ms/step - loss: 0.0023 - accuracy: 1.0000 - val_loss: 0.0394 - val_accuracy: 0.9500\n",
            "Epoch 86/100\n",
            "7/7 [==============================] - 2s 350ms/step - loss: 0.0041 - accuracy: 1.0000 - val_loss: 0.0329 - val_accuracy: 1.0000\n",
            "Epoch 87/100\n",
            "7/7 [==============================] - 2s 299ms/step - loss: 0.0080 - accuracy: 1.0000 - val_loss: 0.1924 - val_accuracy: 0.9500\n",
            "Epoch 88/100\n",
            "7/7 [==============================] - 2s 294ms/step - loss: 0.0132 - accuracy: 0.9950 - val_loss: 0.0035 - val_accuracy: 1.0000\n",
            "Epoch 89/100\n",
            "7/7 [==============================] - 2s 343ms/step - loss: 0.0090 - accuracy: 1.0000 - val_loss: 0.0018 - val_accuracy: 1.0000\n",
            "Epoch 90/100\n",
            "7/7 [==============================] - 2s 303ms/step - loss: 0.0065 - accuracy: 1.0000 - val_loss: 0.0023 - val_accuracy: 1.0000\n",
            "Epoch 91/100\n",
            "7/7 [==============================] - 2s 295ms/step - loss: 0.0068 - accuracy: 1.0000 - val_loss: 0.0017 - val_accuracy: 1.0000\n",
            "Epoch 92/100\n",
            "7/7 [==============================] - 2s 349ms/step - loss: 0.0074 - accuracy: 1.0000 - val_loss: 0.0033 - val_accuracy: 1.0000\n",
            "Epoch 93/100\n",
            "7/7 [==============================] - 2s 291ms/step - loss: 0.0048 - accuracy: 1.0000 - val_loss: 0.0032 - val_accuracy: 1.0000\n",
            "Epoch 94/100\n",
            "7/7 [==============================] - 2s 295ms/step - loss: 0.0044 - accuracy: 1.0000 - val_loss: 0.0092 - val_accuracy: 1.0000\n",
            "Epoch 95/100\n",
            "7/7 [==============================] - 2s 295ms/step - loss: 0.0021 - accuracy: 1.0000 - val_loss: 0.0105 - val_accuracy: 1.0000\n",
            "Epoch 96/100\n",
            "7/7 [==============================] - 2s 299ms/step - loss: 0.0039 - accuracy: 1.0000 - val_loss: 0.0043 - val_accuracy: 1.0000\n",
            "Epoch 97/100\n",
            "7/7 [==============================] - 2s 314ms/step - loss: 0.0023 - accuracy: 1.0000 - val_loss: 0.0023 - val_accuracy: 1.0000\n",
            "Epoch 98/100\n",
            "7/7 [==============================] - 2s 307ms/step - loss: 0.0013 - accuracy: 1.0000 - val_loss: 0.0056 - val_accuracy: 1.0000\n",
            "Epoch 99/100\n",
            "7/7 [==============================] - 2s 297ms/step - loss: 9.4589e-04 - accuracy: 1.0000 - val_loss: 0.0115 - val_accuracy: 1.0000\n",
            "Epoch 100/100\n",
            "7/7 [==============================] - 2s 295ms/step - loss: 0.0020 - accuracy: 1.0000 - val_loss: 0.0068 - val_accuracy: 1.0000\n"
          ]
        },
        {
          "output_type": "execute_result",
          "data": {
            "text/plain": [
              "<keras.callbacks.History at 0x7f9151f8f2d0>"
            ]
          },
          "metadata": {},
          "execution_count": 29
        }
      ]
    },
    {
      "cell_type": "markdown",
      "metadata": {
        "id": "BCeVKtHVJL9S"
      },
      "source": [
        "A CNN model to analyse an image and to predict whether the image is of a cat or a dog. The accuracy obtained using the model is about 95.5%."
      ]
    },
    {
      "cell_type": "code",
      "metadata": {
        "colab": {
          "base_uri": "https://localhost:8080/"
        },
        "id": "whYPRMBJrp_B",
        "outputId": "0a2aa3d1-a80e-496f-868a-6fd031f273a4"
      },
      "source": [
        "#MAKING PREDICTIONS\n",
        "import numpy as np\n",
        "from keras.preprocessing import image\n",
        "test_image = image.load_img('train_dataset/test dataset/electric/electric 410.jpg', target_size = (64, 64))\n",
        "test_image_modeified = image.img_to_array(test_image)\n",
        "test_image_modeified = test_image_modeified / 255\n",
        "test_image_modeified = np.expand_dims(test_image_modeified, axis = 0)\n",
        "result = cnn.predict(test_image_modeified)\n",
        "print(result)\n",
        "if result[0][0] <= 0.9:\n",
        "  prediction = 'diesel'\n",
        "\n",
        "else:\n",
        "  prediction = 'electric'\n",
        "  \n",
        "print(prediction)"
      ],
      "execution_count": null,
      "outputs": [
        {
          "output_type": "stream",
          "name": "stdout",
          "text": [
            "[[0.9999906]]\n",
            "electric\n"
          ]
        }
      ]
    }
  ]
}