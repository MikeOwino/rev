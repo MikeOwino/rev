{
 "cells": [
  {
   "cell_type": "code",
   "execution_count": 1,
   "id": "dd1e111c",
   "metadata": {},
   "outputs": [],
   "source": [
    "import cv2 as cv\n",
    "import numpy as np"
   ]
  },
  {
   "cell_type": "markdown",
   "id": "cb49c5f5",
   "metadata": {},
   "source": [
    "# Face Detection #"
   ]
  },
  {
   "cell_type": "code",
   "execution_count": null,
   "id": "271c608e",
   "metadata": {},
   "outputs": [
    {
     "name": "stdout",
     "output_type": "stream",
     "text": [
      "Number of faces found = 7\n"
     ]
    }
   ],
   "source": [
    "img = cv.imread(\"C:\\\\Users\\\\ankit\\\\Documents\\\\Project Files\\\\Face detection 3.jpg\")\n",
    "gray = cv.cvtColor(img,cv.COLOR_BGR2GRAY)\n",
    "haar_cascade = cv.CascadeClassifier('haar_face.xml')\n",
    "faces_rect = haar_cascade.detectMultiScale(gray, scaleFactor=1.1, minNeighbors=4)\n",
    "print(f'Number of faces found = {len(faces_rect)}')\n",
    "for(x,y,w,h) in faces_rect:\n",
    "    cv.rectangle(img,(x,y),(x+w,y+h),(0,255,0),thickness=2)\n",
    "cv.imshow(\"Detected Faces\",img)\n",
    "cv.waitKey(0)"
   ]
  },
  {
   "cell_type": "markdown",
   "id": "882950d3",
   "metadata": {},
   "source": [
    "# Face Detection Using Camera #"
   ]
  },
  {
   "cell_type": "code",
   "execution_count": null,
   "id": "d9e2ad3a",
   "metadata": {},
   "outputs": [],
   "source": [
    "haar_cascade = cv.CascadeClassifier('haar_face.xml')\n",
    "camera=cv.VideoCapture(0)\n",
    "while True:\n",
    "    check,frame=camera.read()\n",
    "    faces_rect = haar_cascade.detectMultiScale(frame, scaleFactor=1.1, minNeighbors=5)\n",
    "    for(x,y,w,h) in faces_rect:\n",
    "        frame=cv.rectangle(frame,(x,y),(x+w,y+h),(0,255,0),thickness=2)\n",
    "    cv.imshow(\"Detected Faces\",frame)\n",
    "    key=cv.waitKey(1)\n",
    "    if key == ord('q'):\n",
    "        break\n",
    "camera.release()\n",
    "cv.destroyAllWindows()\n",
    "print(f'Number of faces found = {len(faces_rect)}')"
   ]
  }
 ],
 "metadata": {
  "kernelspec": {
   "display_name": "Python 3",
   "language": "python",
   "name": "python3"
  },
  "language_info": {
   "codemirror_mode": {
    "name": "ipython",
    "version": 3
   },
   "file_extension": ".py",
   "mimetype": "text/x-python",
   "name": "python",
   "nbconvert_exporter": "python",
   "pygments_lexer": "ipython3",
   "version": "3.8.8"
  }
 },
 "nbformat": 4,
 "nbformat_minor": 5
}
