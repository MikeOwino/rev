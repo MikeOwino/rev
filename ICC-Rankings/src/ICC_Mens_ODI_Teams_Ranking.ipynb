{
 "cells": [
  {
   "cell_type": "markdown",
   "id": "66a39196",
   "metadata": {},
   "source": [
    "<P> A Python project to Scrap data from ICC Rankings \n",
    "    page and get the ranking table for Mens ODI Teams using Selenium webdriver and \n",
    "    create a DataFrame using pandas to store the information.<br>\n",
    "    From DataFrame to, We are saving this data into SQL Database file.\n",
    "</P>"
   ]
  },
  {
   "cell_type": "markdown",
   "id": "bc0870c5",
   "metadata": {},
   "source": [
    "Link of page- \"https://www.icc-cricket.com/rankings/mens/team-rankings/odi\""
   ]
  },
  {
   "cell_type": "code",
   "execution_count": 1,
   "id": "bf46853f",
   "metadata": {},
   "outputs": [],
   "source": [
    "#Import Libraries\n",
    "import pandas as pd\n",
    "from selenium import webdriver"
   ]
  },
  {
   "cell_type": "code",
   "execution_count": 2,
   "id": "95f47ad1",
   "metadata": {},
   "outputs": [],
   "source": [
    "#URL\n",
    "url = \"https://www.icc-cricket.com/rankings/mens/team-rankings/odi\""
   ]
  },
  {
   "cell_type": "code",
   "execution_count": 3,
   "id": "af9d2d11",
   "metadata": {},
   "outputs": [],
   "source": [
    "#Load Webdriver from path\n",
    "driver = webdriver.Firefox(executable_path=\"E:\\geckodriver\\geckodriver.exe\")"
   ]
  },
  {
   "cell_type": "code",
   "execution_count": 4,
   "id": "a0637113",
   "metadata": {},
   "outputs": [],
   "source": [
    "# Opening the submission url\n",
    "driver.get(url)"
   ]
  },
  {
   "cell_type": "code",
   "execution_count": 5,
   "id": "65ae43f4",
   "metadata": {},
   "outputs": [],
   "source": [
    "#Finding all tables\n",
    "all_tables   =  driver.find_element_by_tag_name('tbody')"
   ]
  },
  {
   "cell_type": "code",
   "execution_count": 6,
   "id": "43044d55",
   "metadata": {},
   "outputs": [],
   "source": [
    "#Generate lists\n",
    "A, B, C, D, E = [], [], [], [], []"
   ]
  },
  {
   "cell_type": "code",
   "execution_count": 7,
   "id": "85e9e366",
   "metadata": {},
   "outputs": [],
   "source": [
    "for row in all_tables.find_elements_by_tag_name('tr'):\n",
    "    \n",
    "    cells = row.find_elements_by_tag_name('td')\n",
    "    \n",
    "    if len(cells) == 5:\n",
    "        A.append(cells[0].text.strip())\n",
    "        B.append(cells[1].text.strip())\n",
    "        C.append(cells[2].text.strip())\n",
    "        D.append(cells[3].text.strip())\n",
    "        E.append(cells[4].text.strip())\n"
   ]
  },
  {
   "cell_type": "code",
   "execution_count": 8,
   "id": "d16eea31",
   "metadata": {},
   "outputs": [],
   "source": [
    "from collections import OrderedDict\n",
    "\n",
    "col_name = [\"Pos\",\"Team\",\"Matches\",\"Points\",\"Rating\"]\n",
    "col_data = OrderedDict(zip(col_name,[A,B,C,D,E]))"
   ]
  },
  {
   "cell_type": "code",
   "execution_count": 9,
   "id": "2c375622",
   "metadata": {},
   "outputs": [],
   "source": [
    "#MAKING DATAFRAME\n",
    "df = pd.DataFrame(col_data)"
   ]
  },
  {
   "cell_type": "code",
   "execution_count": 10,
   "id": "efa05db0",
   "metadata": {},
   "outputs": [
    {
     "name": "stdout",
     "output_type": "stream",
     "text": [
      "   Pos              Team Matches Points Rating\n",
      "0    1       New Zealand      17  2,054    121\n",
      "1    2           England      32  3,793    119\n",
      "2    3         Australia      28  3,244    116\n",
      "3    4             India      32  3,624    113\n",
      "4    5      South Africa      22  2,267    103\n",
      "5    6          Pakistan      27  2,524     93\n",
      "6    7        Bangladesh      29  2,639     91\n",
      "7    8       West Indies      30  2,523     84\n",
      "8    9         Sri Lanka      29  2,303     79\n",
      "9   10       Afghanistan      17  1,054     62\n",
      "10  11       Netherlands       7    336     48\n",
      "11  12           Ireland      23  1,067     46\n",
      "12  13          Zimbabwe      17    646     38\n",
      "13  14          Scotland       7    258     37\n",
      "14  15              Oman       7    240     34\n",
      "15  16             Nepal       5    119     24\n",
      "16  17               UAE       9    190     21\n",
      "17  18           Namibia       6     97     16\n",
      "18  19     United States       8     93     12\n",
      "19  20  Papua New Guinea       5      0      0\n"
     ]
    }
   ],
   "source": [
    "print(df)"
   ]
  },
  {
   "cell_type": "code",
   "execution_count": 11,
   "id": "f5ba8f3a",
   "metadata": {},
   "outputs": [],
   "source": [
    "import sqlite3\n",
    "\n",
    "#df.to_csv()"
   ]
  },
  {
   "cell_type": "code",
   "execution_count": 12,
   "id": "339ad958",
   "metadata": {},
   "outputs": [],
   "source": [
    "# File based database ( connects if exists or creates a new one if it does not exists ) \n",
    "conn = sqlite3.connect ( 'ranking.db' )"
   ]
  },
  {
   "cell_type": "code",
   "execution_count": 13,
   "id": "e4b23edf",
   "metadata": {},
   "outputs": [],
   "source": [
    "#CREATING CURSOR\n",
    "c = conn.cursor()"
   ]
  },
  {
   "cell_type": "code",
   "execution_count": 14,
   "id": "ea7cffdb",
   "metadata": {},
   "outputs": [],
   "source": [
    "#SAVING DB TABLE\n",
    "df.to_sql(\"rankingselenium\", con=conn, if_exists = 'replace', index=False)"
   ]
  },
  {
   "cell_type": "code",
   "execution_count": 15,
   "id": "a883d481",
   "metadata": {},
   "outputs": [
    {
     "name": "stdout",
     "output_type": "stream",
     "text": [
      "('1', 'New Zealand', '17', '2,054', '121')\n",
      "('2', 'England', '32', '3,793', '119')\n",
      "('3', 'Australia', '28', '3,244', '116')\n",
      "('4', 'India', '32', '3,624', '113')\n",
      "('5', 'South Africa', '22', '2,267', '103')\n",
      "('6', 'Pakistan', '27', '2,524', '93')\n",
      "('7', 'Bangladesh', '29', '2,639', '91')\n",
      "('8', 'West Indies', '30', '2,523', '84')\n",
      "('9', 'Sri Lanka', '29', '2,303', '79')\n",
      "('10', 'Afghanistan', '17', '1,054', '62')\n",
      "('11', 'Netherlands', '7', '336', '48')\n",
      "('12', 'Ireland', '23', '1,067', '46')\n",
      "('13', 'Zimbabwe', '17', '646', '38')\n",
      "('14', 'Scotland', '7', '258', '37')\n",
      "('15', 'Oman', '7', '240', '34')\n",
      "('16', 'Nepal', '5', '119', '24')\n",
      "('17', 'UAE', '9', '190', '21')\n",
      "('18', 'Namibia', '6', '97', '16')\n",
      "('19', 'United States', '8', '93', '12')\n",
      "('20', 'Papua New Guinea', '5', '0', '0')\n",
      "[None, None, None, None, None, None, None, None, None, None, None, None, None, None, None, None, None, None, None, None]\n"
     ]
    }
   ],
   "source": [
    "#PRINT FILE DATA\n",
    "c.execute(\"SELECT * FROM rankingselenium\")\n",
    "print ([print(i) for i in c.fetchall()] )"
   ]
  },
  {
   "cell_type": "code",
   "execution_count": 16,
   "id": "f11d1212",
   "metadata": {},
   "outputs": [],
   "source": [
    "#EXIT DRIVER\n",
    "driver.quit()"
   ]
  }
 ],
 "metadata": {
  "kernelspec": {
   "display_name": "Python 3",
   "language": "python",
   "name": "python3"
  },
  "language_info": {
   "codemirror_mode": {
    "name": "ipython",
    "version": 3
   },
   "file_extension": ".py",
   "mimetype": "text/x-python",
   "name": "python",
   "nbconvert_exporter": "python",
   "pygments_lexer": "ipython3",
   "version": "3.8.8"
  }
 },
 "nbformat": 4,
 "nbformat_minor": 5
}
